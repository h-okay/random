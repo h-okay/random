{
 "cells": [
  {
   "cell_type": "markdown",
   "id": "48715bb3",
   "metadata": {},
   "source": [
    "### Problem 11\n",
    "**Largest product in a grid**\n",
    "In the 20×20 grid below, four numbers along a diagonal line have been marked in red.\n",
    "\n",
    "                            08 02 22 97 38 15 00 40 00 75 04 05 07 78 52 12 50 77 91 08\n",
    "                            49 49 99 40 17 81 18 57 60 87 17 40 98 43 69 48 04 56 62 00\n",
    "                            81 49 31 73 55 79 14 29 93 71 40 67 53 88 30 03 49 13 36 65\n",
    "                            52 70 95 23 04 60 11 42 69 24 68 56 01 32 56 71 37 02 36 91\n",
    "                            22 31 16 71 51 67 63 89 41 92 36 54 22 40 40 28 66 33 13 80\n",
    "                            24 47 32 60 99 03 45 02 44 75 33 53 78 36 84 20 35 17 12 50\n",
    "                            32 98 81 28 64 23 67 10 26 38 40 67 59 54 70 66 18 38 64 70\n",
    "                            67 26 20 68 02 62 12 20 95 63 94 39 63 08 40 91 66 49 94 21\n",
    "                            24 55 58 05 66 73 99 26 97 17 78 78 96 83 14 88 34 89 63 72\n",
    "                            21 36 23 09 75 00 76 44 20 45 35 14 00 61 33 97 34 31 33 95\n",
    "                            78 17 53 28 22 75 31 67 15 94 03 80 04 62 16 14 09 53 56 92\n",
    "                            16 39 05 42 96 35 31 47 55 58 88 24 00 17 54 24 36 29 85 57\n",
    "                            86 56 00 48 35 71 89 07 05 44 44 37 44 60 21 58 51 54 17 58\n",
    "                            19 80 81 68 05 94 47 69 28 73 92 13 86 52 17 77 04 89 55 40\n",
    "                            04 52 08 83 97 35 99 16 07 97 57 32 16 26 26 79 33 27 98 66\n",
    "                            88 36 68 87 57 62 20 72 03 46 33 67 46 55 12 32 63 93 53 69\n",
    "                            04 42 16 73 38 25 39 11 24 94 72 18 08 46 29 32 40 62 76 36\n",
    "                            20 69 36 41 72 30 23 88 34 62 99 69 82 67 59 85 74 04 36 16\n",
    "                            20 73 35 29 78 31 90 01 74 31 49 71 48 86 81 16 23 57 05 54\n",
    "                            01 70 54 71 83 51 54 69 16 92 33 48 61 43 52 01 89 19 67 48\n",
    "\n",
    "                            The product of these numbers is 26 × 63 × 78 × 14 = 1788696.\n",
    "\n",
    "What is the greatest product of four adjacent numbers in the same direction (up, down, left, right, or diagonally) in the 20×20 grid?\n"
   ]
  },
  {
   "cell_type": "code",
   "execution_count": 74,
   "id": "7261f301",
   "metadata": {
    "scrolled": false
   },
   "outputs": [
    {
     "data": {
      "text/plain": [
       "70600674"
      ]
     },
     "execution_count": 74,
     "metadata": {},
     "output_type": "execute_result"
    }
   ],
   "source": [
    "import math\n",
    "import numpy as np\n",
    "\n",
    "\n",
    "def grids():\n",
    "\n",
    "    num = \"08 02 22 97 38 15 00 40 00 75 04 05 07 78 52 12 50 77 91 08 49 49 99 40 17 81 18 57 60 87 17 40 98 43 69 48 04 56 62 00 81 49 31 73 55 79 14 29 93 71 40 67 53 88 30 03 49 13 36 65 52 70 95 23 04 60 11 42 69 24 68 56 01 32 56 71 37 02 36 91 22 31 16 71 51 67 63 89 41 92 36 54 22 40 40 28 66 33 13 80 24 47 32 60 99 03 45 02 44 75 33 53 78 36 84 20 35 17 12 50 32 98 81 28 64 23 67 10 26 38 40 67 59 54 70 66 18 38 64 70 67 26 20 68 02 62 12 20 95 63 94 39 63 08 40 91 66 49 94 21 24 55 58 05 66 73 99 26 97 17 78 78 96 83 14 88 34 89 63 72 21 36 23 09 75 00 76 44 20 45 35 14 00 61 33 97 34 31 33 95 78 17 53 28 22 75 31 67 15 94 03 80 04 62 16 14 09 53 56 92 16 39 05 42 96 35 31 47 55 58 88 24 00 17 54 24 36 29 85 57 86 56 00 48 35 71 89 07 05 44 44 37 44 60 21 58 51 54 17 58 19 80 81 68 05 94 47 69 28 73 92 13 86 52 17 77 04 89 55 40 04 52 08 83 97 35 99 16 07 97 57 32 16 26 26 79 33 27 98 66 88 36 68 87 57 62 20 72 03 46 33 67 46 55 12 32 63 93 53 69 04 42 16 73 38 25 39 11 24 94 72 18 08 46 29 32 40 62 76 36 20 69 36 41 72 30 23 88 34 62 99 69 82 67 59 85 74 04 36 16 20 73 35 29 78 31 90 01 74 31 49 71 48 86 81 16 23 57 05 54 01 70 54 71 83 51 54 69 16 92 33 48 61 43 52 01 89 19 67 48\"\n",
    "    a = num.split(\" \")\n",
    "    b = [int(val) for val in a]\n",
    "    chunk_size = 20\n",
    "    grid = [b[i : i + chunk_size] for i in range(0, len(b), 20)]\n",
    "\n",
    "    horizontal_max = max(\n",
    "        grid[i][j] * grid[i][j + 1] * grid[i][j + 2] * grid[i][j + 3]\n",
    "        for i in range(20)\n",
    "        for j in range(17)\n",
    "    )\n",
    "    vertical_max = max(\n",
    "        grid[i][j] * grid[i + 1][j] * grid[i + 2][j] * grid[i + 3][j]\n",
    "        for i in range(17)\n",
    "        for j in range(20)\n",
    "    )\n",
    "    diagonal1_max = max(\n",
    "        grid[i][j] * grid[i + 1][j + 1] * grid[i + 2][j + 2] * grid[i + 3][j + 3]\n",
    "        for i in range(17)\n",
    "        for j in range(17)\n",
    "    )\n",
    "    diagonal2_max = max(\n",
    "        grid[i][j] * grid[i - 1][j + 1] * grid[i - 2][j + 2] * grid[i - 3][j + 3]\n",
    "        for i in range(3, 20)\n",
    "        for j in range(17)\n",
    "    )\n",
    "\n",
    "    max_max = max(horizontal_max, vertical_max, diagonal1_max, diagonal2_max)\n",
    "\n",
    "    return max_max\n",
    "\n",
    "\n",
    "grid_again()"
   ]
  },
  {
   "cell_type": "markdown",
   "id": "3709ebab",
   "metadata": {},
   "source": [
    "### Problem 12\n",
    "**Highly divisible triangular number**\n",
    "\n",
    "The sequence of triangle numbers is generated by adding the natural numbers. So the 7th triangle number would be 1 + 2 + 3 + 4 + 5 + 6 + 7 = 28. The first ten terms would be:\n",
    "\n",
    "                                        1, 3, 6, 10, 15, 21, 28, 36, 45, 55, ...\n",
    "\n",
    "Let us list the factors of the first seven triangle numbers:\n",
    "\n",
    "             1: 1\n",
    "             3: 1,3\n",
    "             6: 1,2,3,6\n",
    "            10: 1,2,5,10\n",
    "            15: 1,3,5,15\n",
    "            21: 1,3,7,21\n",
    "            28: 1,2,4,7,14,28\n",
    "\n",
    "We can see that 28 is the first triangle number to have over five divisors.\n",
    "\n",
    "What is the value of the first triangle number to have over five hundred divisors?"
   ]
  },
  {
   "cell_type": "code",
   "execution_count": 15,
   "id": "78e6b70f",
   "metadata": {},
   "outputs": [
    {
     "name": "stdout",
     "output_type": "stream",
     "text": [
      "76576500\n"
     ]
    }
   ],
   "source": [
    "import math\n",
    "import sympy\n",
    "\n",
    "\n",
    "def triangular_number(n):\n",
    "    \"\"\"Returns nth triangular number\"\"\"\n",
    "    return int(n * (n + 1) / 2)\n",
    "\n",
    "\n",
    "def divisor(num):\n",
    "    \"\"\"Returns the lenght of a list of all divisors of given triangular number\"\"\"\n",
    "    return sympy.divisors(num)\n",
    "\n",
    "\n",
    "for i in range(1, 1000000):\n",
    "    if len(divisor(triangular_number(i))) > 500:\n",
    "        print(triangular_number(i))\n",
    "        break"
   ]
  },
  {
   "cell_type": "markdown",
   "id": "387dbd7e",
   "metadata": {},
   "source": [
    "### Problem 13\n",
    "**Large sum**\n",
    "\n",
    "Work out the first ten digits of the sum of the following one-hundred, 50-digit numbers.\n",
    "\n",
    "                                37107287533902102798797998220837590246510135740250\n",
    "                                46376937677490009712648124896970078050417018260538\n",
    "                                74324986199524741059474233309513058123726617309629\n",
    "                                91942213363574161572522430563301811072406154908250\n",
    "                                23067588207539346171171980310421047513778063246676\n",
    "                                89261670696623633820136378418383684178734361726757\n",
    "                                281128798128499794080654..."
   ]
  },
  {
   "cell_type": "code",
   "execution_count": 79,
   "id": "c8233131",
   "metadata": {},
   "outputs": [
    {
     "name": "stdout",
     "output_type": "stream",
     "text": [
      "5537376230\n"
     ]
    }
   ],
   "source": [
    "f = open(\"euler13number.txt\", \"r\")\n",
    "number = f.readline()\n",
    "array = [int(a) for a in str(number)]\n",
    "f.close()\n",
    "chunk_size = 50\n",
    "chunks = [\n",
    "    array[i : i + chunk_size]\n",
    "    for i in range(0, len(array), 50)\n",
    "    if len(array[i : i + chunk_size]) == 50\n",
    "]\n",
    "big_numbers = [int(\"\".join(map(str, i))) for i in chunks]\n",
    "totals = sum(big_numbers)\n",
    "\n",
    "print(str(totals)[:10])"
   ]
  },
  {
   "cell_type": "markdown",
   "id": "e0960dd8",
   "metadata": {},
   "source": [
    "### Problem 14\n",
    "**Longest Collatz sequence**\n",
    "The following iterative sequence is defined for the set of positive integers:\n",
    "\n",
    "                n → n/2 (n is even)\n",
    "                n → 3n + 1 (n is odd)\n",
    "\n",
    "Using the rule above and starting with 13, we generate the following sequence:\n",
    "\n",
    "            13 → 40 → 20 → 10 → 5 → 16 → 8 → 4 → 2 → 1\n",
    "It can be seen that this sequence (starting at 13 and finishing at 1) contains 10 terms. Although it has not been proved yet (Collatz Problem), it is thought that all starting numbers finish at 1.\n",
    "\n",
    "Which starting number, under one million, produces the longest chain?\n",
    "\n",
    "NOTE: Once the chain starts the terms are allowed to go above one million."
   ]
  },
  {
   "cell_type": "code",
   "execution_count": 39,
   "id": "8ec910a3",
   "metadata": {},
   "outputs": [
    {
     "data": {
      "text/plain": [
       "(524, 837799)"
      ]
     },
     "execution_count": 39,
     "metadata": {},
     "output_type": "execute_result"
    }
   ],
   "source": [
    "from IPython.display import clear_output\n",
    "\n",
    "\n",
    "def collatz(n):\n",
    "    count = 0\n",
    "    while True:\n",
    "        if n == 1:\n",
    "            break\n",
    "        if n % 2 == 0:\n",
    "            n /= 2\n",
    "            count += 1\n",
    "        else:\n",
    "            n = (n * 3) + 1\n",
    "            count += 1\n",
    "\n",
    "    return count\n",
    "\n",
    "\n",
    "def longest_chain():\n",
    "\n",
    "    chain = [collatz(n) for n in range(1, 1000000)]\n",
    "    a = chain.index(max(chain))\n",
    "    nums = [i for i in range(1, 1000000)]\n",
    "\n",
    "    return max(chain), nums[a]\n",
    "\n",
    "\n",
    "longest_chain()"
   ]
  },
  {
   "cell_type": "markdown",
   "id": "07c52b92",
   "metadata": {},
   "source": [
    "### Problem 15\n",
    "**Lattice paths**\n",
    "\n",
    "Starting in the top left corner of a 2×2 grid, and only being able to move to the right and down, there are exactly 6 routes to the bottom right corner.\n",
    "\n",
    "<img src=\"https://projecteuler.net/project/images/p015.png\">\n",
    "\n",
    "How many such routes are there through a 20×20 grid?"
   ]
  },
  {
   "cell_type": "markdown",
   "id": "c314346b",
   "metadata": {},
   "source": [
    "                                            Possible Directions --> Rows of Pascal Triangle\n",
    "<img src=\"https://storage.googleapis.com/static.mathigon.org/tasks/23e81c298e59e7ae72518683402ffaa9.jpg\" width=200px>"
   ]
  },
  {
   "cell_type": "code",
   "execution_count": 30,
   "id": "91079c25",
   "metadata": {},
   "outputs": [
    {
     "name": "stdout",
     "output_type": "stream",
     "text": [
      "[6, 20, 70, 252, 924, 3432, 12870, 48620, 184756, 705432, 2704156, 10400600, 40116600, 155117520, 601080390, 2333606220, 9075135300, 35345263800, 137846528820]\n"
     ]
    }
   ],
   "source": [
    "import math\n",
    "\n",
    "\n",
    "def pascal_row(n):\n",
    "    return int((math.factorial(2 * (n))) / ((math.factorial(n)) * (math.factorial(n))))\n",
    "\n",
    "\n",
    "answer = [pascal_row(i) for i in range(2, 21)]\n",
    "print(answer)\n",
    "# 137846528820"
   ]
  },
  {
   "cell_type": "markdown",
   "id": "b60253de",
   "metadata": {},
   "source": [
    "### Problem 16\n",
    "**Power digit sums**\n",
    "\n",
    "2<sup>15</sup> = 32768 and the sum of its digits is 3 + 2 + 7 + 6 + 8 = 26.\n",
    "\n",
    "What is the sum of the digits of the number 2<sup>1000</sup>?\n"
   ]
  },
  {
   "cell_type": "code",
   "execution_count": 33,
   "id": "e66f0405",
   "metadata": {},
   "outputs": [
    {
     "data": {
      "text/plain": [
       "1366"
      ]
     },
     "execution_count": 33,
     "metadata": {},
     "output_type": "execute_result"
    }
   ],
   "source": [
    "import math\n",
    "\n",
    "\n",
    "def power_digit_sum(n):\n",
    "\n",
    "    num = 2**n\n",
    "    chars = [val for val in str(num)]\n",
    "    sums = 0\n",
    "    for i in chars:\n",
    "        sums += int(i)\n",
    "    return sums\n",
    "\n",
    "\n",
    "power_digit_sum(1000)"
   ]
  },
  {
   "cell_type": "markdown",
   "id": "bf1df075",
   "metadata": {},
   "source": [
    "### Problem 17\n",
    "**Number letter counts**\n",
    "\n",
    "If the numbers 1 to 5 are written out in words: one, two, three, four, five, then there are 3 + 3 + 5 + 4 + 4 = 19 letters used in total.\n",
    "\n",
    "If all the numbers from 1 to 1000 (one thousand) inclusive were written out in words, how many letters would be used?\n",
    "\n",
    "\n",
    "NOTE: Do not count spaces or hyphens. For example, 342 (three hundred and forty-two) contains 23 letters and 115 (one hundred and fifteen) contains 20 letters. The use of \"and\" when writing out numbers is in compliance with British usage."
   ]
  },
  {
   "cell_type": "code",
   "execution_count": 17,
   "id": "0831b292",
   "metadata": {},
   "outputs": [
    {
     "data": {
      "text/plain": [
       "21124"
      ]
     },
     "execution_count": 17,
     "metadata": {},
     "output_type": "execute_result"
    }
   ],
   "source": [
    "import math\n",
    "from num2words import num2words\n",
    "\n",
    "\n",
    "def letter_count():\n",
    "\n",
    "    a = [len(num2words(i).replace(\" \", \"\").replace(\"-\", \"\")) for i in range(1, 1001)]\n",
    "    return sum(a)\n",
    "\n",
    "\n",
    "letter_count()"
   ]
  }
 ],
 "metadata": {
  "kernelspec": {
   "display_name": "Python 3",
   "language": "python",
   "name": "python3"
  },
  "language_info": {
   "codemirror_mode": {
    "name": "ipython",
    "version": 3
   },
   "file_extension": ".py",
   "mimetype": "text/x-python",
   "name": "python",
   "nbconvert_exporter": "python",
   "pygments_lexer": "ipython3",
   "version": "3.8.11"
  }
 },
 "nbformat": 4,
 "nbformat_minor": 5
}
