{
 "cells": [
  {
   "cell_type": "markdown",
   "metadata": {
    "collapsed": true
   },
   "source": [
    "# Final Capstone Projects\n",
    "\n",
    "Please refer to the [**Final Capstone Projects**](http://nbviewer.jupyter.org/github/jmportilla/Complete-Python-Bootcamp/tree/master/Final%20Capstone%20Projects/) folder to get all the info on final capstone project ideas and possible solutions!"
   ]
  },
  {
   "cell_type": "markdown",
   "metadata": {},
   "source": [
    "Numbers\n",
    "---------"
   ]
  },
  {
   "cell_type": "markdown",
   "metadata": {},
   "source": [
    "**Find PI to the Nth Digit** - Enter a number and have the program generate &pi; (pi) up to that many decimal places. Keep a limit to how far the program will go."
   ]
  },
  {
   "cell_type": "code",
   "execution_count": 1,
   "metadata": {},
   "outputs": [],
   "source": [
    "import math\n",
    "from IPython.display import clear_output\n",
    "\n",
    "\n",
    "def pi_decimals():\n",
    "    while True:\n",
    "        try:\n",
    "            digit = int(input(\"How many digits you want to generate: (Max: 48) \"))\n",
    "            if digit <= 0 or digit > 48:\n",
    "                print(\"Not valid!\")\n",
    "            else:\n",
    "                break\n",
    "        except:\n",
    "            print(\"Not valid!\")\n",
    "\n",
    "    pi = math.pi\n",
    "    max_pi = format(pi, \".48f\")\n",
    "    digit_list = [num for num in str(max_pi)]\n",
    "    answer = \"\".join(digit_list[:2] + digit_list[2 : digit + 2])\n",
    "    clear_output()\n",
    "    print(f\"{digit} decimals --> {answer}\")"
   ]
  },
  {
   "cell_type": "code",
   "execution_count": 2,
   "metadata": {},
   "outputs": [
    {
     "name": "stdout",
     "output_type": "stream",
     "text": [
      "12 decimals --> 3.141592653589\n"
     ]
    }
   ],
   "source": [
    "pi_decimals()"
   ]
  },
  {
   "cell_type": "markdown",
   "metadata": {},
   "source": [
    "**Find e to the Nth Digit** - Just like the previous problem, but with e instead of &pi; (pi). Enter a number and have the program generate e up to that many decimal places. Keep a limit to how far the program will go."
   ]
  },
  {
   "cell_type": "code",
   "execution_count": 60,
   "metadata": {},
   "outputs": [],
   "source": [
    "import math\n",
    "from IPython.display import clear_output\n",
    "\n",
    "\n",
    "def e_decimals():\n",
    "    while True:\n",
    "        try:\n",
    "            digit = int(input(\"How many digits you want to generate(Max: 51): \"))\n",
    "            if digit <= 0 or digit > 51:\n",
    "                print(\"Not valid!\")\n",
    "            else:\n",
    "                break\n",
    "        except:\n",
    "            print(\"Not valid!\")\n",
    "\n",
    "    e = math.e\n",
    "    max_e = format(e, \".51f\")\n",
    "    digit_list = [num for num in str(max_e)]\n",
    "    answer = \"\".join(digit_list[:2] + digit_list[2 : digit + 2])\n",
    "    clear_output()\n",
    "    print(f\"{digit} decimals --> {answer}\")"
   ]
  },
  {
   "cell_type": "code",
   "execution_count": 61,
   "metadata": {},
   "outputs": [
    {
     "name": "stdout",
     "output_type": "stream",
     "text": [
      "51 decimals --> 2.718281828459045090795598298427648842334747314453125\n"
     ]
    }
   ],
   "source": [
    "e_decimals()"
   ]
  },
  {
   "cell_type": "markdown",
   "metadata": {},
   "source": [
    "**Fibonacci Sequence** - Enter a number and have the program generate the Fibonacci sequence to that number or to the Nth number."
   ]
  },
  {
   "cell_type": "code",
   "execution_count": 74,
   "metadata": {},
   "outputs": [
    {
     "name": "stdout",
     "output_type": "stream",
     "text": [
      "How many numbers you want to generate(Max 20): 14\n",
      "1 1 2 3 5 8 13 21 34 55 89 144 233 377 "
     ]
    }
   ],
   "source": [
    "from IPython.display import clear_output\n",
    "\n",
    "\n",
    "def get_num():\n",
    "    while True:\n",
    "        try:\n",
    "            num = int(input(\"How many numbers you want to generate(Max 20): \"))\n",
    "            if num <= 0 or num > 20:\n",
    "                print(\"Not valid!\")\n",
    "            else:\n",
    "                break\n",
    "        except:\n",
    "            print(\"Not valid!\")\n",
    "    return num\n",
    "\n",
    "\n",
    "def fibogen(num):\n",
    "\n",
    "    second = [1, 1]\n",
    "    more = [1, 1]\n",
    "\n",
    "    if num == 1:\n",
    "        more = [1]\n",
    "    elif num == 2:\n",
    "        more = [1, 1]\n",
    "    else:\n",
    "        while len(more) != num:\n",
    "            more.append(second[-1] + second[-2])\n",
    "            second.append(more[-1])\n",
    "\n",
    "    for i in more:\n",
    "        print(i, end=\" \")\n",
    "\n",
    "\n",
    "fibogen(get_num())"
   ]
  },
  {
   "cell_type": "markdown",
   "metadata": {},
   "source": [
    "**Prime Check** - Have the user enter a number and check if the number is a prime number."
   ]
  },
  {
   "cell_type": "code",
   "execution_count": 5,
   "metadata": {},
   "outputs": [
    {
     "name": "stdout",
     "output_type": "stream",
     "text": [
      "15 is NOT a prime number.\n"
     ]
    }
   ],
   "source": [
    "from IPython.display import clear_output\n",
    "\n",
    "\n",
    "def get_num():\n",
    "    while True:\n",
    "        try:\n",
    "            num = int(input(\"How many numbers you want to generate(Max 100): \"))\n",
    "            if num <= 0 or num > 100:\n",
    "                print(\"Not valid!\")\n",
    "            else:\n",
    "                break\n",
    "        except:\n",
    "            print(\"Not valid!\")\n",
    "    return num\n",
    "\n",
    "\n",
    "def is_it_prime(num):\n",
    "    clear_output()\n",
    "    nums = [i for i in range(2, num)]\n",
    "    prime = []\n",
    "    for number in nums:\n",
    "        if num % number == 0:\n",
    "            prime.append(num)\n",
    "\n",
    "    # prime = [number for number in nums if num % number == 0]\n",
    "\n",
    "    if len(prime) != 0:\n",
    "        print(f\"{num} is NOT a prime number.\")\n",
    "    else:\n",
    "        print(f\"{num} is a PRIME number.\")\n",
    "\n",
    "\n",
    "is_it_prime(get_num())"
   ]
  },
  {
   "cell_type": "markdown",
   "metadata": {},
   "source": [
    "**Prime Factorization** - Have the user enter a number and find all Prime Factors (if there are any) and display them."
   ]
  },
  {
   "cell_type": "code",
   "execution_count": 8,
   "metadata": {},
   "outputs": [
    {
     "name": "stdout",
     "output_type": "stream",
     "text": [
      "Give me a number: 1200\n",
      "2\n",
      "3\n",
      "5\n",
      "5\n",
      "8\n"
     ]
    }
   ],
   "source": [
    "import math\n",
    "from IPython.display import clear_output\n",
    "\n",
    "\n",
    "def get_num():\n",
    "    while True:\n",
    "        try:\n",
    "            num = int(input(\"Give me a number: \"))\n",
    "            if num <= 0:\n",
    "                print(\"Not valid!\")\n",
    "            else:\n",
    "                break\n",
    "        except:\n",
    "            print(\"Not valid!\")\n",
    "    return num\n",
    "\n",
    "\n",
    "def prime_fact(num):\n",
    "\n",
    "    if num % 2 == 0:  # num = 54 % 2 = 0 --> 27 % 2 != 0 continue\n",
    "        print(\"2\")  # print 2\n",
    "        num /= 2\n",
    "    for i in range(\n",
    "        3, int(math.sqrt(num)) + 1, 2\n",
    "    ):  # num = 27 --> range(3,6,2) --> 3,5  // 27 % 3 = 0 --> 9 % 3 = 0 --> 3 % 3 = 0\n",
    "        while num % i == 0:  #\n",
    "            print(i)  # print 3 3 3\n",
    "            num /= i\n",
    "    if num > 2:\n",
    "        print(int(num))\n",
    "\n",
    "\n",
    "prime_fact(get_num())"
   ]
  },
  {
   "cell_type": "markdown",
   "metadata": {},
   "source": [
    "**Next Prime Number** - Have the program find prime numbers until the user chooses to stop asking for the next one."
   ]
  },
  {
   "cell_type": "code",
   "execution_count": 1,
   "metadata": {},
   "outputs": [
    {
     "name": "stdout",
     "output_type": "stream",
     "text": [
      "97\n",
      "Out of numbers.\n"
     ]
    }
   ],
   "source": [
    "from IPython.display import clear_output\n",
    "\n",
    "\n",
    "def give_one_more():\n",
    "\n",
    "    inpt = [i for i in range(3, 100)]\n",
    "    not_prm = []\n",
    "    prm = [2]\n",
    "    for num in inpt:\n",
    "        nums = [i for i in range(2, num)]\n",
    "        prime = []\n",
    "        for number in nums:\n",
    "            if num % number == 0:\n",
    "                prime.append(num)\n",
    "\n",
    "        if len(prime) != 0:\n",
    "            not_prm.append(num)\n",
    "        else:\n",
    "            prm.append(num)\n",
    "\n",
    "    print(f\"First prime is 2\")\n",
    "    index = 1\n",
    "\n",
    "    while True:\n",
    "        if len(prm) > index:\n",
    "            yn = input(\"Want to see next prime number(Max to 100)? Yes or No \").lower()\n",
    "            clear_output()\n",
    "            if yn.startswith(\"y\"):\n",
    "                print(prm[index])\n",
    "                index += 1\n",
    "                continue\n",
    "\n",
    "            elif yn.startswith(\"n\"):\n",
    "                print(\"Stopping.\")\n",
    "                break\n",
    "\n",
    "            else:\n",
    "                continue\n",
    "        else:\n",
    "            print(\"Out of numbers.\")\n",
    "            break\n",
    "\n",
    "\n",
    "give_one_more()"
   ]
  },
  {
   "cell_type": "markdown",
   "metadata": {},
   "source": [
    "**Find Cost of Tile to Cover W x H Floor** - Calculate the total cost of tile it would take to cover a floor plan of width and height, using a cost entered by the user."
   ]
  },
  {
   "cell_type": "code",
   "execution_count": 16,
   "metadata": {},
   "outputs": [
    {
     "name": "stdout",
     "output_type": "stream",
     "text": [
      "Your room is 40 m2, you will need 640 tiles and total cost is 320$.\n"
     ]
    }
   ],
   "source": [
    "import math\n",
    "from IPython.display import clear_output\n",
    "\n",
    "\n",
    "def calculate():\n",
    "\n",
    "    while True:\n",
    "        try:\n",
    "            cost = float(input(\"How much do you charge for a tile: \"))\n",
    "            if cost <= 0:\n",
    "                print(\"Not valid!\")\n",
    "            else:\n",
    "                break\n",
    "        except:\n",
    "            print(\"Not valid!\")\n",
    "\n",
    "    while True:\n",
    "        try:\n",
    "            height = int(input(\"Enter the height of the room in meters: \"))\n",
    "            if height <= 0:\n",
    "                print(\"Not valid!\")\n",
    "            else:\n",
    "                break\n",
    "        except:\n",
    "            print(\"Not valid!\")\n",
    "\n",
    "    while True:\n",
    "        try:\n",
    "            width = int(input(\"Enter the width of the room in meters: \"))\n",
    "            if width <= 0:\n",
    "                print(\"Not valid!\")\n",
    "            else:\n",
    "                break\n",
    "        except:\n",
    "            print(\"Not valid!\")\n",
    "\n",
    "    clear_output()\n",
    "    tile_width = tile_height = 0.25\n",
    "    sqr_meters_tile = 0.25 * 0.25\n",
    "    sqr_meters = width * height\n",
    "    total_tile_count = sqr_meters / sqr_meters_tile\n",
    "    total_cost = total_tile_count * cost\n",
    "\n",
    "    print(\n",
    "        f\"Your room is {int(sqr_meters)} m2, you will need {int(total_tile_count)} tiles and total cost is {int(total_cost)}$.\"\n",
    "    )\n",
    "\n",
    "\n",
    "calculate()"
   ]
  },
  {
   "cell_type": "markdown",
   "metadata": {},
   "source": [
    "**Mortgage Calculator** - Calculate the monthly payments of a fixed term mortgage over given Nth terms at a given interest rate. Also figure out how long it will take the user to pay back the loan. For added complexity, add an option for users to select the compounding interval (Monthly, Weekly, Daily, Continually)."
   ]
  },
  {
   "cell_type": "code",
   "execution_count": 1,
   "metadata": {},
   "outputs": [
    {
     "name": "stdout",
     "output_type": "stream",
     "text": [
      "How much is your mortgage: 34000\n",
      "What is the interest rate(%): 15\n",
      "Is it monthly, weekly or daily? (m/w/d) d\n",
      "You need to pay 53$ every DAY for the next 2 years.\n"
     ]
    }
   ],
   "source": [
    "def mortgage():\n",
    "\n",
    "    while True:\n",
    "        try:\n",
    "            total = int(input(\"How much is your mortgage: \"))\n",
    "            if total <= 0:\n",
    "                print(\"Not valid!\")\n",
    "            else:\n",
    "                break\n",
    "        except:\n",
    "            print(\"Not valid!\")\n",
    "\n",
    "    while True:\n",
    "        try:\n",
    "            rate = int(input(\"What is the interest rate(%): \"))\n",
    "            if rate <= 0:\n",
    "                print(\"Not valid!\")\n",
    "            else:\n",
    "                break\n",
    "        except:\n",
    "            print(\"Not valid!\")\n",
    "\n",
    "    while True:\n",
    "        try:\n",
    "            mwd = (input(\"Is it monthly, weekly or daily? (m/w/d) \")).lower()\n",
    "            if mwd.startswith(\"m\"):\n",
    "                mwd = \"Monthly\"\n",
    "\n",
    "                break\n",
    "            if mwd.startswith(\"w\"):\n",
    "                mwd = \"Weekly\"\n",
    "\n",
    "                break\n",
    "            if mwd.startswith(\"d\"):\n",
    "                mwd = \"Daily\"\n",
    "\n",
    "                break\n",
    "            else:\n",
    "                print(\"Not valid!\")\n",
    "        except:\n",
    "            print(\"Not valid!\")\n",
    "\n",
    "    total += (total * rate) / 100\n",
    "\n",
    "    if mwd == \"Monthly\":\n",
    "        m_payment = int(total / 24)\n",
    "        print(f\"You need to pay {m_payment}$ every MONTH for the next 2 years.\")\n",
    "    if mwd == \"Weekly\":\n",
    "        w_payment = int(total / 108)\n",
    "        print(f\"You need to pay {w_payment}$ every WEEK for the next 2 years.\")\n",
    "    if mwd == \"Daily\":\n",
    "        d_payment = int(total / 730)\n",
    "        print(f\"You need to pay {d_payment}$ every DAY for the next 2 years.\")\n",
    "\n",
    "\n",
    "mortgage()"
   ]
  },
  {
   "cell_type": "markdown",
   "metadata": {},
   "source": [
    "**Change Return Program** - The user enters a cost and then the amount of money given. The program will figure out the change and the number of quarters, dimes, nickels, pennies needed for the change."
   ]
  },
  {
   "cell_type": "code",
   "execution_count": 78,
   "metadata": {},
   "outputs": [
    {
     "name": "stdout",
     "output_type": "stream",
     "text": [
      "Money given: 50\n",
      "The cost is: 32.8\n",
      "17 dollars 2 dime "
     ]
    }
   ],
   "source": [
    "import math\n",
    "\n",
    "# A penny is worth 1 cent.\n",
    "# A nickel is worth 5 cents.\n",
    "# A dime is worth 10 cents.\n",
    "# A quarter is worth 25 cents.\n",
    "\n",
    "\n",
    "def change_return():\n",
    "\n",
    "    penny = 1\n",
    "    nickel = 5\n",
    "    dime = 10\n",
    "    quarter = 25\n",
    "\n",
    "    while True:\n",
    "        try:\n",
    "            money_given = float(input(\"Money given: \"))\n",
    "            if money_given <= 0:\n",
    "                print(\"Not valid!\")\n",
    "            else:\n",
    "                break\n",
    "        except:\n",
    "            print(\"Not valid!\")\n",
    "\n",
    "    while True:\n",
    "        try:\n",
    "            cost = float(input(\"The cost is: \"))\n",
    "            if cost <= 0 or cost > money_given:\n",
    "                print(\"Not valid!\")\n",
    "            else:\n",
    "                break\n",
    "        except:\n",
    "            print(\"Not valid!\")\n",
    "\n",
    "    if cost == money_given:\n",
    "        print(\"No change needed.\")\n",
    "\n",
    "    elif cost < money_given:\n",
    "        return_amount = float(money_given - cost)\n",
    "        not_decimal = int(return_amount)\n",
    "        decimals = str(return_amount - int(return_amount))[2:4]\n",
    "        change = int(decimals)\n",
    "\n",
    "        answer = [0, 0, 0, 0]\n",
    "        money = [\"quarter\", \"dime\", \"nickel\", \"penny\"]\n",
    "\n",
    "        if change >= quarter:\n",
    "            quarter_amount = change // quarter\n",
    "            change -= quarter_amount * quarter\n",
    "            if quarter_amount != 0:\n",
    "                answer[0] = str(quarter_amount)\n",
    "\n",
    "        if change >= dime:\n",
    "            dime_amount = change // dime\n",
    "            change -= dime_amount * dime\n",
    "            if dime_amount != 0:\n",
    "                answer[1] = str(dime_amount)\n",
    "\n",
    "        if change >= nickel:\n",
    "            nickel_amount = change // nickel\n",
    "            change -= nickel_amount * nickel\n",
    "            if nickel_amount != 0:\n",
    "                answer[2] = str(nickel_amount)\n",
    "\n",
    "        if change >= penny:\n",
    "            penny_amount = change // penny\n",
    "            change -= penny_amount * penny\n",
    "            if penny_amount != 0:\n",
    "                answer[3] = str(penny_amount)\n",
    "\n",
    "    zipped_list = zip(answer, money)\n",
    "    lst = list(zipped_list)\n",
    "\n",
    "    print(str(not_decimal) + \" \" + \"dollars\", end=\" \")\n",
    "    for i in lst:\n",
    "        if 0 not in i:\n",
    "            print(i[0] + \" \" + i[1], end=\" \")\n",
    "\n",
    "\n",
    "# there's an error with 45-32.2 it rounds to 0.79 while its 80?\n",
    "\n",
    "\n",
    "change_return()"
   ]
  },
  {
   "cell_type": "markdown",
   "metadata": {},
   "source": [
    "**Binary to Decimal and Back Converter** - Develop a converter to convert a decimal number to binary or a binary number to its decimal equivalent."
   ]
  },
  {
   "cell_type": "code",
   "execution_count": 40,
   "metadata": {},
   "outputs": [
    {
     "name": "stdout",
     "output_type": "stream",
     "text": [
      "Give me a number (Decimal or Binary): 110001\n"
     ]
    },
    {
     "data": {
      "text/plain": [
       "49"
      ]
     },
     "execution_count": 40,
     "metadata": {},
     "output_type": "execute_result"
    }
   ],
   "source": [
    "def dec_bin():\n",
    "\n",
    "    while True:\n",
    "        try:\n",
    "            num = int(input(\"Give me a number (Decimal or Binary): \"))\n",
    "            if num <= 0:\n",
    "                print(\"Not valid!\")\n",
    "            else:\n",
    "                break\n",
    "        except:\n",
    "            print(\"Not valid!\")\n",
    "\n",
    "    for i in str(num):\n",
    "        if i in \"10\":\n",
    "            binary = True\n",
    "        else:\n",
    "            binary = False\n",
    "\n",
    "    if binary:  # to decimal\n",
    "        return int(str(num), 2)\n",
    "\n",
    "    else:  # to binary\n",
    "        return str(bin(num))\n",
    "\n",
    "\n",
    "dec_bin()"
   ]
  },
  {
   "cell_type": "markdown",
   "metadata": {},
   "source": [
    "**Calculator** - A simple calculator to do basic operators. Make it a scientific calculator for added complexity."
   ]
  },
  {
   "cell_type": "code",
   "execution_count": 10,
   "metadata": {},
   "outputs": [
    {
     "name": "stdout",
     "output_type": "stream",
     "text": [
      "55 ÷ 44 = 1.25\n"
     ]
    }
   ],
   "source": [
    "import math\n",
    "from IPython.display import clear_output\n",
    "\n",
    "\n",
    "def calc(num1, num2, op):\n",
    "\n",
    "    if op == \"+\":\n",
    "        return (\n",
    "            str(num1) + \" \" + \"+\" + \" \" + str(num2) + \" \" + \"=\" + \" \" + str(num1 + num2)\n",
    "        )\n",
    "    if op == \"-\":\n",
    "        return (\n",
    "            str(num1) + \" \" + \"-\" + \" \" + str(num2) + \" \" + \"=\" + \" \" + str(num1 - num2)\n",
    "        )\n",
    "    if op == \"*\":\n",
    "        return (\n",
    "            str(num1) + \" \" + \"x\" + \" \" + str(num2) + \" \" + \"=\" + \" \" + str(num1 * num2)\n",
    "        )\n",
    "    if op == \"/\":\n",
    "        return (\n",
    "            str(num1) + \" \" + \"÷\" + \" \" + str(num2) + \" \" + \"=\" + \" \" + str(num1 / num2)\n",
    "        )\n",
    "\n",
    "\n",
    "def main():\n",
    "    while True:\n",
    "        try:\n",
    "            num1 = int(input(\"First number: \"))\n",
    "            if type(num1) == int:\n",
    "                break\n",
    "        except:\n",
    "            print(\"Not valid!\")\n",
    "\n",
    "    while True:\n",
    "        try:\n",
    "            num2 = int(input(\"Second number: \"))\n",
    "            if type(num2) == int:\n",
    "                break\n",
    "        except:\n",
    "            print(\"Not valid!\")\n",
    "\n",
    "    while True:\n",
    "        try:\n",
    "            op = input(\"What kind of operation would you like to do? (+, -, x, ÷) : \")\n",
    "            if op in \"+-*/\":\n",
    "                break\n",
    "            else:\n",
    "                print(\"Enter a valid operator!\")\n",
    "        except:\n",
    "            print(\"Enter a valid operator!\")\n",
    "\n",
    "    clear_output()\n",
    "    print(calc(num1, num2, op))\n",
    "\n",
    "\n",
    "if __name__ == \"__main__\":\n",
    "    main()"
   ]
  },
  {
   "cell_type": "markdown",
   "metadata": {},
   "source": [
    "**Factorial Finder** - The Factorial of a positive integer, n, is defined as the product of the sequence n, n-1, n-2, ...1 and the factorial of zero, 0, is defined as being 1. Solve this using both loops and recursion.\n"
   ]
  },
  {
   "cell_type": "code",
   "execution_count": null,
   "metadata": {
    "scrolled": true
   },
   "outputs": [],
   "source": [
    "def user_input():\n",
    "\n",
    "    while True:\n",
    "        try:\n",
    "            num = int(input(\"Give me a number: \"))\n",
    "            if num < 0:\n",
    "                print(\"Not a valid number!\")\n",
    "            else:\n",
    "                break\n",
    "        except:\n",
    "            print(\"Not a valif number!\")\n",
    "\n",
    "    return num\n",
    "\n",
    "\n",
    "# def factorial(num):\n",
    "#     # with loops\n",
    "\n",
    "#     total = 1\n",
    "#     for i in range(1,num+1):\n",
    "#         total *= i\n",
    "#     return total\n",
    "\n",
    "\n",
    "def factorial(num):\n",
    "    # with recursion\n",
    "\n",
    "    if num == 0:\n",
    "        return 1\n",
    "\n",
    "    return num * factorial(num - 1)\n",
    "\n",
    "\n",
    "factorial(user_input())"
   ]
  },
  {
   "cell_type": "markdown",
   "metadata": {},
   "source": [
    "Classic Algorithms\n",
    "-----------------"
   ]
  },
  {
   "cell_type": "markdown",
   "metadata": {},
   "source": [
    "**Collatz Conjecture** - Start with a number *n > 1*. Find the number of steps it takes to reach one using the following process: If *n* is even, divide it by 2. If *n* is odd, multiply it by 3 and add 1."
   ]
  },
  {
   "cell_type": "code",
   "execution_count": 9,
   "metadata": {},
   "outputs": [
    {
     "name": "stdout",
     "output_type": "stream",
     "text": [
      "It takes 21 steps to reach 1 from 36\n"
     ]
    }
   ],
   "source": [
    "from IPython.display import clear_output\n",
    "\n",
    "\n",
    "def collatz():\n",
    "\n",
    "    while True:\n",
    "        try:\n",
    "            n = int(input(\"Give me a number: \"))\n",
    "            if n < 1:\n",
    "                print(\"Not a valid number!\")\n",
    "            else:\n",
    "                break\n",
    "        except:\n",
    "            print(\"Not a valid number!\")\n",
    "    start = n\n",
    "    count = 0\n",
    "    while True:\n",
    "        if n == 1:\n",
    "            break\n",
    "        if n % 2 == 0:\n",
    "            n /= 2\n",
    "            count += 1\n",
    "        else:\n",
    "            n = (n * 3) + 1\n",
    "            count += 1\n",
    "    clear_output()\n",
    "    print(f\"It takes {count} steps to reach 1 from {start}\")\n",
    "\n",
    "\n",
    "collatz()"
   ]
  }
 ],
 "metadata": {
  "kernelspec": {
   "display_name": "playground",
   "language": "python",
   "name": "python3"
  },
  "language_info": {
   "codemirror_mode": {
    "name": "ipython",
    "version": 3
   },
   "file_extension": ".py",
   "mimetype": "text/x-python",
   "name": "python",
   "nbconvert_exporter": "python",
   "pygments_lexer": "ipython3",
   "version": "3.10.5 | packaged by conda-forge | (main, Jun 14 2022, 07:05:37) [Clang 13.0.1 ]"
  },
  "vscode": {
   "interpreter": {
    "hash": "1b6258ac5f9ce9aee8bc7e8f09e746bac739d42425ff8343fe5df569d2e6cb19"
   }
  }
 },
 "nbformat": 4,
 "nbformat_minor": 1
}
